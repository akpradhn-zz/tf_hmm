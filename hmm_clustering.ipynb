{
 "cells": [
  {
   "cell_type": "code",
   "execution_count": 1,
   "metadata": {
    "collapsed": true
   },
   "outputs": [],
   "source": [
    "# imports\n",
    "from tf_hmm import HiddenMarkovModel\n",
    "from toy_dataset_2 import toy_dataset\n",
    "import numpy as np\n",
    "import time\n",
    "%matplotlib inline "
   ]
  },
  {
   "cell_type": "code",
   "execution_count": 2,
   "metadata": {
    "collapsed": true
   },
   "outputs": [],
   "source": [
    "num_clusters = 2\n",
    "data_dim = 2\n",
    "states = 3\n",
    "I = 1000\n",
    "N = 32"
   ]
  },
  {
   "cell_type": "code",
   "execution_count": 3,
   "metadata": {
    "collapsed": true
   },
   "outputs": [],
   "source": [
    "clusters = []"
   ]
  },
  {
   "cell_type": "code",
   "execution_count": 4,
   "metadata": {
    "collapsed": false
   },
   "outputs": [],
   "source": [
    "for c in range(num_clusters):\n",
    "    clusters.append(HiddenMarkovModel(states, data_dim, reports=False, code_number=c))"
   ]
  },
  {
   "cell_type": "code",
   "execution_count": 5,
   "metadata": {
    "collapsed": false
   },
   "outputs": [],
   "source": [
    "codes = np.random.randint(0,num_clusters,I)"
   ]
  },
  {
   "cell_type": "code",
   "execution_count": 6,
   "metadata": {
    "collapsed": false
   },
   "outputs": [],
   "source": [
    "dataset,model = toy_dataset(I,N)"
   ]
  },
  {
   "cell_type": "code",
   "execution_count": 7,
   "metadata": {
    "collapsed": false,
    "scrolled": true
   },
   "outputs": [
    {
     "name": "stdout",
     "output_type": "stream",
     "text": [
      "changes = 508\n",
      "0.543\n",
      "changes = 127\n",
      "0.560\n",
      "changes = 144\n",
      "0.704\n",
      "changes = 225\n",
      "0.929\n",
      "changes = 68\n",
      "0.997\n",
      "changes = 3\n",
      "1.000\n",
      "changes = 0\n",
      "1.000\n"
     ]
    }
   ],
   "source": [
    "changes = 1000\n",
    "while changes>0:\n",
    "    changes = 0\n",
    "    posteriors = []\n",
    "    for cl in clusters:\n",
    "        cl.expectation_maximization(dataset, max_steps=100, codes=codes)\n",
    "        #print(cl._code_number)\n",
    "        posteriors.append(cl.posterior(dataset))\n",
    "    posteriors_matrix = np.transpose(np.array(posteriors))\n",
    "    for i in range(I):\n",
    "        pos_max = posteriors_matrix[i].argmax()\n",
    "        if pos_max != codes[i]:\n",
    "            changes += 1\n",
    "            codes[i] = pos_max\n",
    "    print('changes = %d'%changes)\n",
    "    print('%.3f'%(max(sum(abs(codes - model)),I-sum(abs(codes-model)))/I))"
   ]
  },
  {
   "cell_type": "code",
   "execution_count": null,
   "metadata": {
    "collapsed": true
   },
   "outputs": [],
   "source": []
  }
 ],
 "metadata": {
  "kernelspec": {
   "display_name": "Python 3",
   "language": "python",
   "name": "python3"
  },
  "language_info": {
   "codemirror_mode": {
    "name": "ipython",
    "version": 3
   },
   "file_extension": ".py",
   "mimetype": "text/x-python",
   "name": "python",
   "nbconvert_exporter": "python",
   "pygments_lexer": "ipython3",
   "version": "3.4.3"
  }
 },
 "nbformat": 4,
 "nbformat_minor": 1
}
